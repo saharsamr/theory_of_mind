{
 "cells": [
  {
   "cell_type": "code",
   "execution_count": 2,
   "metadata": {},
   "outputs": [
    {
     "ename": "ModuleNotFoundError",
     "evalue": "No module named 'analysis'",
     "output_type": "error",
     "traceback": [
      "\u001b[0;31m---------------------------------------------------------------------------\u001b[0m",
      "\u001b[0;31mModuleNotFoundError\u001b[0m                       Traceback (most recent call last)",
      "\u001b[0;32m<ipython-input-2-eb9cf7696cf7>\u001b[0m in \u001b[0;36m<module>\u001b[0;34m\u001b[0m\n\u001b[0;32m----> 1\u001b[0;31m \u001b[0;32mfrom\u001b[0m \u001b[0manalysis\u001b[0m \u001b[0;32mimport\u001b[0m \u001b[0mplot_pulled_MB_result\u001b[0m\u001b[0;34m\u001b[0m\u001b[0;34m\u001b[0m\u001b[0m\n\u001b[0m",
      "\u001b[0;31mModuleNotFoundError\u001b[0m: No module named 'analysis'"
     ]
    }
   ],
   "source": [
    "from analysis.correctness_checker.behavior_analysis.MB_agent.plot import pulled_MB_result"
   ]
  },
  {
   "cell_type": "code",
   "execution_count": 2,
   "metadata": {},
   "outputs": [],
   "source": [
    "alpha = 0.3"
   ]
  },
  {
   "cell_type": "code",
   "execution_count": 3,
   "metadata": {},
   "outputs": [
    {
     "name": "stderr",
     "output_type": "stream",
     "text": [
      "/home/sahar/Documents/Theory of Mind/Codes/env/lib/python3.8/site-packages/statsmodels/regression/mixed_linear_model.py:2168: ConvergenceWarning: The MLE may be on the boundary of the parameter space.\n",
      "  warnings.warn(msg, ConvergenceWarning)\n"
     ]
    },
    {
     "name": "stdout",
     "output_type": "stream",
     "text": [
      "               Mixed Linear Model Regression Results\n",
      "====================================================================\n",
      "Model:                MixedLM     Dependent Variable:     repeat    \n",
      "No. Observations:     2736        Method:                 REML      \n",
      "No. Groups:           30          Scale:                  0.2486    \n",
      "Min. group size:      77          Log-Likelihood:         -1986.2456\n",
      "Max. group size:      104         Converged:              Yes       \n",
      "Mean group size:      91.2                                          \n",
      "--------------------------------------------------------------------\n",
      "                          Coef.  Std.Err.   z    P>|z| [0.025 0.975]\n",
      "--------------------------------------------------------------------\n",
      "Intercept                  0.423    0.037 11.310 0.000  0.350  0.496\n",
      "common_reward             -0.002    0.057 -0.041 0.967 -0.114  0.109\n",
      "reward_prob                0.087    0.075  1.161 0.246 -0.060  0.235\n",
      "common_reward:reward_prob  0.109    0.106  1.022 0.307 -0.100  0.317\n",
      "Group Var                  0.000    0.002                           \n",
      "====================================================================\n",
      "\n"
     ]
    },
    {
     "data": {
      "image/png": "[encoded data removed]",
      "text/plain": [
       "<Figure size 432x288 with 1 Axes>"
      ]
     },
     "metadata": {
      "needs_background": "light"
     },
     "output_type": "display_data"
    }
   ],
   "source": [
    "beta = 1.0\n",
    "plot_pulled_MB_result('analysis/simulation_results/data/MB/', alpha, beta)"
   ]
  },
  {
   "cell_type": "code",
   "execution_count": 4,
   "metadata": {},
   "outputs": [
    {
     "name": "stderr",
     "output_type": "stream",
     "text": [
      "/home/sahar/Documents/Theory of Mind/Codes/env/lib/python3.8/site-packages/statsmodels/regression/mixed_linear_model.py:2168: ConvergenceWarning: The MLE may be on the boundary of the parameter space.\n",
      "  warnings.warn(msg, ConvergenceWarning)\n"
     ]
    },
    {
     "name": "stdout",
     "output_type": "stream",
     "text": [
      "               Mixed Linear Model Regression Results\n",
      "====================================================================\n",
      "Model:                MixedLM     Dependent Variable:     repeat    \n",
      "No. Observations:     2614        Method:                 REML      \n",
      "No. Groups:           30          Scale:                  0.2410    \n",
      "Min. group size:      78          Log-Likelihood:         -1857.5451\n",
      "Max. group size:      98          Converged:              Yes       \n",
      "Mean group size:      87.1                                          \n",
      "--------------------------------------------------------------------\n",
      "                          Coef.  Std.Err.   z    P>|z| [0.025 0.975]\n",
      "--------------------------------------------------------------------\n",
      "Intercept                  0.368    0.038  9.634 0.000  0.293  0.443\n",
      "common_reward              0.166    0.056  2.954 0.003  0.056  0.276\n",
      "reward_prob                0.201    0.077  2.617 0.009  0.051  0.352\n",
      "common_reward:reward_prob -0.037    0.107 -0.342 0.732 -0.246  0.173\n",
      "Group Var                  0.000    0.002                           \n",
      "====================================================================\n",
      "\n"
     ]
    },
    {
     "data": {
      "image/png": "[encoded data removed]",
      "text/plain": [
       "<Figure size 432x288 with 1 Axes>"
      ]
     },
     "metadata": {
      "needs_background": "light"
     },
     "output_type": "display_data"
    }
   ],
   "source": [
    "beta = 2.0\n",
    "plot_pulled_MB_result('analysis/simulation_results/data/MB/', alpha, beta)"
   ]
  },
  {
   "cell_type": "code",
   "execution_count": 5,
   "metadata": {},
   "outputs": [
    {
     "name": "stderr",
     "output_type": "stream",
     "text": [
      "/home/sahar/Documents/Theory of Mind/Codes/env/lib/python3.8/site-packages/statsmodels/regression/mixed_linear_model.py:2168: ConvergenceWarning: The MLE may be on the boundary of the parameter space.\n",
      "  warnings.warn(msg, ConvergenceWarning)\n"
     ]
    },
    {
     "name": "stdout",
     "output_type": "stream",
     "text": [
      "               Mixed Linear Model Regression Results\n",
      "====================================================================\n",
      "Model:                MixedLM     Dependent Variable:     repeat    \n",
      "No. Observations:     2701        Method:                 REML      \n",
      "No. Groups:           30          Scale:                  0.2242    \n",
      "Min. group size:      78          Log-Likelihood:         -1825.4438\n",
      "Max. group size:      106         Converged:              Yes       \n",
      "Mean group size:      90.0                                          \n",
      "--------------------------------------------------------------------\n",
      "                          Coef.  Std.Err.   z    P>|z| [0.025 0.975]\n",
      "--------------------------------------------------------------------\n",
      "Intercept                  0.240    0.037  6.482 0.000  0.167  0.312\n",
      "common_reward              0.281    0.053  5.311 0.000  0.177  0.384\n",
      "reward_prob                0.389    0.074  5.269 0.000  0.244  0.534\n",
      "common_reward:reward_prob -0.080    0.100 -0.797 0.425 -0.276  0.116\n",
      "Group Var                  0.001    0.002                           \n",
      "====================================================================\n",
      "\n"
     ]
    },
    {
     "data": {
      "image/png": "[encoded data removed]",
      "text/plain": [
       "<Figure size 432x288 with 1 Axes>"
      ]
     },
     "metadata": {
      "needs_background": "light"
     },
     "output_type": "display_data"
    }
   ],
   "source": [
    "beta = 3.0\n",
    "plot_pulled_MB_result('analysis/simulation_results/data/MB/', alpha, beta)"
   ]
  },
  {
   "cell_type": "code",
   "execution_count": 6,
   "metadata": {},
   "outputs": [
    {
     "name": "stderr",
     "output_type": "stream",
     "text": [
      "/home/sahar/Documents/Theory of Mind/Codes/env/lib/python3.8/site-packages/statsmodels/regression/mixed_linear_model.py:2168: ConvergenceWarning: The MLE may be on the boundary of the parameter space.\n",
      "  warnings.warn(msg, ConvergenceWarning)\n"
     ]
    },
    {
     "name": "stdout",
     "output_type": "stream",
     "text": [
      "               Mixed Linear Model Regression Results\n",
      "====================================================================\n",
      "Model:                MixedLM     Dependent Variable:     repeat    \n",
      "No. Observations:     2660        Method:                 REML      \n",
      "No. Groups:           30          Scale:                  0.2239    \n",
      "Min. group size:      77          Log-Likelihood:         -1797.1965\n",
      "Max. group size:      99          Converged:              Yes       \n",
      "Mean group size:      88.7                                          \n",
      "--------------------------------------------------------------------\n",
      "                          Coef.  Std.Err.   z    P>|z| [0.025 0.975]\n",
      "--------------------------------------------------------------------\n",
      "Intercept                  0.311    0.039  7.998 0.000  0.235  0.387\n",
      "common_reward              0.370    0.055  6.710 0.000  0.262  0.478\n",
      "reward_prob                0.251    0.077  3.273 0.001  0.101  0.402\n",
      "common_reward:reward_prob -0.206    0.104 -1.982 0.048 -0.410 -0.002\n",
      "Group Var                  0.001    0.002                           \n",
      "====================================================================\n",
      "\n"
     ]
    },
    {
     "data": {
      "image/png": "[encoded data removed]",
      "text/plain": [
       "<Figure size 432x288 with 1 Axes>"
      ]
     },
     "metadata": {
      "needs_background": "light"
     },
     "output_type": "display_data"
    }
   ],
   "source": [
    "beta = 4.0\n",
    "plot_pulled_MB_result('analysis/simulation_results/data/MB/', alpha, beta)"
   ]
  },
  {
   "cell_type": "code",
   "execution_count": 7,
   "metadata": {},
   "outputs": [
    {
     "name": "stderr",
     "output_type": "stream",
     "text": [
      "/home/sahar/Documents/Theory of Mind/Codes/env/lib/python3.8/site-packages/statsmodels/regression/mixed_linear_model.py:2168: ConvergenceWarning: The MLE may be on the boundary of the parameter space.\n",
      "  warnings.warn(msg, ConvergenceWarning)\n"
     ]
    },
    {
     "name": "stdout",
     "output_type": "stream",
     "text": [
      "               Mixed Linear Model Regression Results\n",
      "====================================================================\n",
      "Model:                MixedLM     Dependent Variable:     repeat    \n",
      "No. Observations:     2749        Method:                 REML      \n",
      "No. Groups:           30          Scale:                  0.2158    \n",
      "Min. group size:      80          Log-Likelihood:         -1804.3733\n",
      "Max. group size:      106         Converged:              Yes       \n",
      "Mean group size:      91.6                                          \n",
      "--------------------------------------------------------------------\n",
      "                          Coef.  Std.Err.   z    P>|z| [0.025 0.975]\n",
      "--------------------------------------------------------------------\n",
      "Intercept                  0.310    0.037  8.436 0.000  0.238  0.382\n",
      "common_reward              0.327    0.052  6.240 0.000  0.224  0.430\n",
      "reward_prob                0.268    0.073  3.676 0.000  0.125  0.410\n",
      "common_reward:reward_prob -0.080    0.098 -0.811 0.417 -0.272  0.113\n",
      "Group Var                  0.001    0.002                           \n",
      "====================================================================\n",
      "\n"
     ]
    },
    {
     "data": {
      "image/png": "[encoded data removed]",
      "text/plain": [
       "<Figure size 432x288 with 1 Axes>"
      ]
     },
     "metadata": {
      "needs_background": "light"
     },
     "output_type": "display_data"
    }
   ],
   "source": [
    "beta = 5.0\n",
    "plot_pulled_MB_result('analysis/simulation_results/data/MB/', alpha, beta)"
   ]
  },
  {
   "cell_type": "code",
   "execution_count": 8,
   "metadata": {},
   "outputs": [
    {
     "name": "stderr",
     "output_type": "stream",
     "text": [
      "/home/sahar/Documents/Theory of Mind/Codes/env/lib/python3.8/site-packages/statsmodels/regression/mixed_linear_model.py:2168: ConvergenceWarning: The MLE may be on the boundary of the parameter space.\n",
      "  warnings.warn(msg, ConvergenceWarning)\n"
     ]
    },
    {
     "name": "stdout",
     "output_type": "stream",
     "text": [
      "               Mixed Linear Model Regression Results\n",
      "====================================================================\n",
      "Model:                MixedLM     Dependent Variable:     repeat    \n",
      "No. Observations:     2690        Method:                 REML      \n",
      "No. Groups:           30          Scale:                  0.2076    \n",
      "Min. group size:      82          Log-Likelihood:         -1716.6032\n",
      "Max. group size:      103         Converged:              Yes       \n",
      "Mean group size:      89.7                                          \n",
      "--------------------------------------------------------------------\n",
      "                          Coef.  Std.Err.   z    P>|z| [0.025 0.975]\n",
      "--------------------------------------------------------------------\n",
      "Intercept                  0.222    0.036  6.246 0.000  0.152  0.292\n",
      "common_reward              0.420    0.052  8.128 0.000  0.319  0.521\n",
      "reward_prob                0.417    0.070  5.926 0.000  0.279  0.555\n",
      "common_reward:reward_prob -0.205    0.097 -2.107 0.035 -0.395 -0.014\n",
      "Group Var                  0.001    0.002                           \n",
      "====================================================================\n",
      "\n"
     ]
    },
    {
     "data": {
      "image/png": "[encoded data removed]",
      "text/plain": [
       "<Figure size 432x288 with 1 Axes>"
      ]
     },
     "metadata": {
      "needs_background": "light"
     },
     "output_type": "display_data"
    }
   ],
   "source": [
    "beta = 6.0\n",
    "plot_pulled_MB_result('analysis/simulation_results/data/MB/', alpha, beta)"
   ]
  },
  {
   "cell_type": "code",
   "execution_count": 9,
   "metadata": {},
   "outputs": [
    {
     "name": "stderr",
     "output_type": "stream",
     "text": [
      "/home/sahar/Documents/Theory of Mind/Codes/env/lib/python3.8/site-packages/statsmodels/regression/mixed_linear_model.py:2168: ConvergenceWarning: The MLE may be on the boundary of the parameter space.\n",
      "  warnings.warn(msg, ConvergenceWarning)\n"
     ]
    },
    {
     "name": "stdout",
     "output_type": "stream",
     "text": [
      "              Mixed Linear Model Regression Results\n",
      "==================================================================\n",
      "Model:                MixedLM    Dependent Variable:    repeat    \n",
      "No. Observations:     2698       Method:                REML      \n",
      "No. Groups:           30         Scale:                 0.1999    \n",
      "Min. group size:      78         Log-Likelihood:        -1669.3422\n",
      "Max. group size:      100        Converged:             Yes       \n",
      "Mean group size:      89.9                                        \n",
      "------------------------------------------------------------------\n",
      "                          Coef. Std.Err.   z   P>|z| [0.025 0.975]\n",
      "------------------------------------------------------------------\n",
      "Intercept                 0.312    0.037 8.469 0.000  0.239  0.384\n",
      "common_reward             0.273    0.051 5.346 0.000  0.173  0.374\n",
      "reward_prob               0.288    0.072 3.987 0.000  0.147  0.430\n",
      "common_reward:reward_prob 0.090    0.096 0.942 0.346 -0.098  0.278\n",
      "Group Var                 0.001    0.002                          \n",
      "==================================================================\n",
      "\n"
     ]
    },
    {
     "data": {
      "image/png": "[encoded data removed]",
      "text/plain": [
       "<Figure size 432x288 with 1 Axes>"
      ]
     },
     "metadata": {
      "needs_background": "light"
     },
     "output_type": "display_data"
    }
   ],
   "source": [
    "beta = 7.0\n",
    "plot_pulled_MB_result('analysis/simulation_results/data/MB/', alpha, beta)"
   ]
  },
  {
   "cell_type": "code",
   "execution_count": 10,
   "metadata": {},
   "outputs": [
    {
     "name": "stderr",
     "output_type": "stream",
     "text": [
      "/home/sahar/Documents/Theory of Mind/Codes/env/lib/python3.8/site-packages/statsmodels/regression/mixed_linear_model.py:2168: ConvergenceWarning: The MLE may be on the boundary of the parameter space.\n",
      "  warnings.warn(msg, ConvergenceWarning)\n"
     ]
    },
    {
     "name": "stdout",
     "output_type": "stream",
     "text": [
      "               Mixed Linear Model Regression Results\n",
      "====================================================================\n",
      "Model:                MixedLM     Dependent Variable:     repeat    \n",
      "No. Observations:     2748        Method:                 REML      \n",
      "No. Groups:           30          Scale:                  0.1914    \n",
      "Min. group size:      78          Log-Likelihood:         -1636.5834\n",
      "Max. group size:      106         Converged:              Yes       \n",
      "Mean group size:      91.6                                          \n",
      "--------------------------------------------------------------------\n",
      "                          Coef.  Std.Err.   z    P>|z| [0.025 0.975]\n",
      "--------------------------------------------------------------------\n",
      "Intercept                  0.237    0.037  6.468 0.000  0.165  0.309\n",
      "common_reward              0.399    0.052  7.692 0.000  0.298  0.501\n",
      "reward_prob                0.411    0.073  5.623 0.000  0.268  0.554\n",
      "common_reward:reward_prob -0.089    0.097 -0.913 0.361 -0.280  0.102\n",
      "Group Var                  0.000    0.001                           \n",
      "====================================================================\n",
      "\n"
     ]
    },
    {
     "data": {
      "image/png": "[encoded data removed]",
      "text/plain": [
       "<Figure size 432x288 with 1 Axes>"
      ]
     },
     "metadata": {
      "needs_background": "light"
     },
     "output_type": "display_data"
    }
   ],
   "source": [
    "beta = 8.0\n",
    "plot_pulled_MB_result('analysis/simulation_results/data/MB/', alpha, beta)"
   ]
  },
  {
   "cell_type": "code",
   "execution_count": 11,
   "metadata": {},
   "outputs": [
    {
     "name": "stderr",
     "output_type": "stream",
     "text": [
      "/home/sahar/Documents/Theory of Mind/Codes/env/lib/python3.8/site-packages/statsmodels/regression/mixed_linear_model.py:2168: ConvergenceWarning: The MLE may be on the boundary of the parameter space.\n",
      "  warnings.warn(msg, ConvergenceWarning)\n"
     ]
    },
    {
     "name": "stdout",
     "output_type": "stream",
     "text": [
      "               Mixed Linear Model Regression Results\n",
      "====================================================================\n",
      "Model:                MixedLM     Dependent Variable:     repeat    \n",
      "No. Observations:     2712        Method:                 REML      \n",
      "No. Groups:           30          Scale:                  0.1904    \n",
      "Min. group size:      77          Log-Likelihood:         -1613.4844\n",
      "Max. group size:      103         Converged:              Yes       \n",
      "Mean group size:      90.4                                          \n",
      "--------------------------------------------------------------------\n",
      "                          Coef.  Std.Err.   z    P>|z| [0.025 0.975]\n",
      "--------------------------------------------------------------------\n",
      "Intercept                  0.258    0.035  7.397 0.000  0.190  0.327\n",
      "common_reward              0.429    0.049  8.793 0.000  0.334  0.525\n",
      "reward_prob                0.423    0.070  6.070 0.000  0.286  0.559\n",
      "common_reward:reward_prob -0.175    0.093 -1.885 0.059 -0.357  0.007\n",
      "Group Var                  0.001    0.002                           \n",
      "====================================================================\n",
      "\n"
     ]
    },
    {
     "data": {
      "image/png": "[encoded data removed]",
      "text/plain": [
       "<Figure size 432x288 with 1 Axes>"
      ]
     },
     "metadata": {
      "needs_background": "light"
     },
     "output_type": "display_data"
    }
   ],
   "source": [
    "beta = 9.0\n",
    "plot_pulled_MB_result('analysis/simulation_results/data/MB/', alpha, beta)"
   ]
  },
  {
   "cell_type": "code",
   "execution_count": 12,
   "metadata": {},
   "outputs": [
    {
     "name": "stderr",
     "output_type": "stream",
     "text": [
      "/home/sahar/Documents/Theory of Mind/Codes/env/lib/python3.8/site-packages/statsmodels/regression/mixed_linear_model.py:2168: ConvergenceWarning: The MLE may be on the boundary of the parameter space.\n",
      "  warnings.warn(msg, ConvergenceWarning)\n"
     ]
    },
    {
     "name": "stdout",
     "output_type": "stream",
     "text": [
      "               Mixed Linear Model Regression Results\n",
      "====================================================================\n",
      "Model:                MixedLM     Dependent Variable:     repeat    \n",
      "No. Observations:     2697        Method:                 REML      \n",
      "No. Groups:           30          Scale:                  0.1773    \n",
      "Min. group size:      78          Log-Likelihood:         -1502.7318\n",
      "Max. group size:      99          Converged:              Yes       \n",
      "Mean group size:      89.9                                          \n",
      "--------------------------------------------------------------------\n",
      "                          Coef.  Std.Err.   z    P>|z| [0.025 0.975]\n",
      "--------------------------------------------------------------------\n",
      "Intercept                  0.214    0.034  6.361 0.000  0.148  0.280\n",
      "common_reward              0.474    0.047 10.069 0.000  0.381  0.566\n",
      "reward_prob                0.523    0.068  7.689 0.000  0.390  0.656\n",
      "common_reward:reward_prob -0.223    0.089 -2.495 0.013 -0.398 -0.048\n",
      "Group Var                  0.000    0.002                           \n",
      "====================================================================\n",
      "\n"
     ]
    },
    {
     "data": {
      "image/png": "[encoded data removed]",
      "text/plain": [
       "<Figure size 432x288 with 1 Axes>"
      ]
     },
     "metadata": {
      "needs_background": "light"
     },
     "output_type": "display_data"
    }
   ],
   "source": [
    "beta = 10.0\n",
    "plot_pulled_MB_result('analysis/simulation_results/data/MB/', alpha, beta)"
   ]
  },
  {
   "cell_type": "code",
   "execution_count": null,
   "metadata": {},
   "outputs": [],
   "source": []
  }
 ],
 "metadata": {
  "kernelspec": {
   "display_name": "Python 3",
   "language": "python",
   "name": "python3"
  },
  "language_info": {
   "codemirror_mode": {
    "name": "ipython",
    "version": 3
   },
   "file_extension": ".py",
   "mimetype": "text/x-python",
   "name": "python",
   "nbconvert_exporter": "python",
   "pygments_lexer": "ipython3",
   "version": "3.8.5"
  }
 },
 "nbformat": 4,
 "nbformat_minor": 4
}
