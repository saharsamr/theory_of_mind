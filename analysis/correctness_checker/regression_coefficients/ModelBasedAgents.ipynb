{
 "cells": [
  {
   "cell_type": "code",
   "execution_count": 1,
   "metadata": {},
   "outputs": [],
   "source": [
    "from analysis.simulation_results.MB_behaviour import extract_data_MB_glmfit\n",
    "import matplotlib.pyplot as plt\n",
    "import pandas as pd\n",
    "import pickle"
   ]
  },
  {
   "cell_type": "code",
   "execution_count": 2,
   "metadata": {},
   "outputs": [],
   "source": [
    "all_coefs = []\n",
    "alpha = 0.3"
   ]
  },
  {
   "cell_type": "code",
   "execution_count": 3,
   "metadata": {},
   "outputs": [
    {
     "name": "stderr",
     "output_type": "stream",
     "text": [
      "/home/sahar/Documents/Theory of Mind/Codes/env/lib/python3.8/site-packages/statsmodels/genmod/bayes_mixed_glm.py:792: UserWarning: VB fitting did not converge\n",
      "  warnings.warn(\"VB fitting did not converge\")\n"
     ]
    }
   ],
   "source": [
    "for beta in [1.0, 2.0, 3.0, 4.0, 5.0, 6.0, 7.0, 8.0, 9.0, 10.0]:\n",
    "    data_path = 'analysis/simulation_results/data/MB/alpha{}beta{}/'.format(alpha, beta)\n",
    "    _, __, ___, glm_result = extract_data_MB_glmfit(data_path)\n",
    "    all_coefs.append(glm_result)"
   ]
  },
  {
   "cell_type": "code",
   "execution_count": 4,
   "metadata": {},
   "outputs": [],
   "source": [
    "with open('sahar-mixedlm-params-mb.pkl', 'wb') as file:\n",
    "    pickle.dump(all_coefs, file)"
   ]
  },
  {
   "cell_type": "code",
   "execution_count": 5,
   "metadata": {},
   "outputs": [],
   "source": [
    "rani_mb = pd.DataFrame({\n",
    "    'common_reward': [0.0413, 0.3765, 0.3881, 1.2618, 1.0743, 0.7288, 0.5824, 1.2574, 1.7543, 1.0229],\n",
    "    'reward_prob': [0.7239, 1.5666, 2.3548, 2.2140, 2.4867, 3.2874, 2.9773, 4.1750, 4.0687, 4.4641],\n",
    "    'interaction': [0.2730, 0.2429, 0.7934, -0.4423, 0.0493, 0.8797, 1.4312, 0.3404, -0.5868, 1.4827]\n",
    "})"
   ]
  },
  {
   "cell_type": "code",
   "execution_count": 6,
   "metadata": {},
   "outputs": [],
   "source": [
    "sahar_mb = pd.DataFrame({\n",
    "    'common_reward': [result.fe_mean[1] for result in all_coefs],\n",
    "    'reward_prob': [result.fe_mean[2] for result in all_coefs],\n",
    "    'interaction': [result.fe_mean[3] for result in all_coefs]\n",
    "})"
   ]
  },
  {
   "cell_type": "code",
   "execution_count": 7,
   "metadata": {},
   "outputs": [
    {
     "data": {
      "text/plain": [
       "Text(0, 0.5, 'MB coefficients - Rani')"
      ]
     },
     "execution_count": 7,
     "metadata": {},
     "output_type": "execute_result"
    },
    {
     "data": {
      "image/png": "[encoded data removed]",
      "text/plain": [
       "<Figure size 432x288 with 1 Axes>"
      ]
     },
     "metadata": {
      "needs_background": "light"
     },
     "output_type": "display_data"
    }
   ],
   "source": [
    "plt.scatter(sahar_mb['common_reward'], rani_mb['common_reward'], label='common_reward coef')\n",
    "plt.scatter(sahar_mb['reward_prob'], rani_mb['reward_prob'], label='reward_prob coef')\n",
    "plt.scatter(sahar_mb['interaction'], rani_mb['interaction'], label='interaction coef')\n",
    "plt.legend()\n",
    "plt.xlabel('MB coefficients - Sahar')\n",
    "plt.ylabel('MB coefficients - Rani')"
   ]
  },
  {
   "cell_type": "code",
   "execution_count": 16,
   "metadata": {},
   "outputs": [],
   "source": [
    "from analysis.simulation_results.MF_behaviour import extract_data_MF_glmfit"
   ]
  },
  {
   "cell_type": "code",
   "execution_count": 17,
   "metadata": {},
   "outputs": [],
   "source": [
    "all_coefs = []\n",
    "for beta in [1.0, 2.0, 3.0, 4.0, 5.0, 6.0, 7.0, 8.0, 9.0, 10.0]:\n",
    "    data_path = 'analysis/simulation_results/data/MB/alpha{}beta{}/'.format(alpha, beta)\n",
    "    _, __, ___, glm_result = extract_data_MF_glmfit(data_path)\n",
    "    all_coefs.append(glm_result)"
   ]
  },
  {
   "cell_type": "code",
   "execution_count": 22,
   "metadata": {},
   "outputs": [],
   "source": [
    "rani_mf = pd.DataFrame({\n",
    "    'common_reward': [-0.0820, -0.0043, -0.0197, -0.0076, -0.0411, -0.0216, -0.0675, -0.0629, -0.0016, -0.0528],\n",
    "    'unique_reward': [0.3991, 0.6821, 1.0185, 1.2203, 1.4280, 1.4654, 1.7087, 1.6897, 1.8533, 1.9648],\n",
    "    'interaction': [-0.0200, 0.0146, -0.2799, 0.1675, -0.0121, -0.0020, -0.3320, 0.2351, -0.0581, 0.0051]\n",
    "})"
   ]
  },
  {
   "cell_type": "code",
   "execution_count": 23,
   "metadata": {},
   "outputs": [],
   "source": [
    "sahar_mf = pd.DataFrame({\n",
    "    'common_reward': [result.fe_mean[1] for result in all_coefs],\n",
    "    'unique_reward': [result.fe_mean[2] for result in all_coefs],\n",
    "    'interaction': [result.fe_mean[3] for result in all_coefs]\n",
    "})"
   ]
  },
  {
   "cell_type": "code",
   "execution_count": 25,
   "metadata": {},
   "outputs": [
    {
     "data": {
      "text/plain": [
       "Text(0, 0.5, 'MF coefficients - Rani')"
      ]
     },
     "execution_count": 25,
     "metadata": {},
     "output_type": "execute_result"
    },
    {
     "data": {
      "image/png": "[encoded data removed]",
      "text/plain": [
       "<Figure size 432x288 with 1 Axes>"
      ]
     },
     "metadata": {
      "needs_background": "light"
     },
     "output_type": "display_data"
    }
   ],
   "source": [
    "plt.scatter(sahar_mf['common_reward'], rani_mf['common_reward'], label='common_reward coef')\n",
    "plt.scatter(sahar_mf['unique_reward'], rani_mf['unique_reward'], label='unique_reward coef')\n",
    "plt.scatter(sahar_mf['interaction'], rani_mf['interaction'], label='interaction coef')\n",
    "plt.legend()\n",
    "plt.xlabel('MF coefficients - Sahar')\n",
    "plt.ylabel('MF coefficients - Rani')"
   ]
  },
  {
   "cell_type": "code",
   "execution_count": null,
   "metadata": {},
   "outputs": [],
   "source": []
  }
 ],
 "metadata": {
  "kernelspec": {
   "display_name": "Python 3",
   "language": "python",
   "name": "python3"
  },
  "language_info": {
   "codemirror_mode": {
    "name": "ipython",
    "version": 3
   },
   "file_extension": ".py",
   "mimetype": "text/x-python",
   "name": "python",
   "nbconvert_exporter": "python",
   "pygments_lexer": "ipython3",
   "version": "3.8.5"
  }
 },
 "nbformat": 4,
 "nbformat_minor": 4
}
